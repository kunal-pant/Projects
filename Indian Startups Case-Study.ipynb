{
 "cells": [
  {
   "cell_type": "markdown",
   "id": "1e9646e5",
   "metadata": {},
   "source": [
    "# Indian Startups Case-Study"
   ]
  },
  {
   "cell_type": "markdown",
   "id": "26bce4f6",
   "metadata": {},
   "source": [
    "Problem Statement:<br>\n",
    "Given Indian Startup Funding Data, the aim is to draw insights to facilitate the setting up of a new startup.<br>\n",
    "\n",
    "Questions to be addressed:<br>\n",
    "1.Based on the number of fundings received in a location, use dataset to make an informed decision to choose a location for startup among Bangalore, Mumbai, and NCR( Gurgaon, Noida and New Delhi) to maximize chances of getting fundings.<br>\n",
    "<br>\n",
    "2.Obtain a list of potential investors, who should be contacted by finding the investors who have invested maximum number of times in same or different startups.<br>\n",
    "<br>\n",
    "3.Obtain a list of potential investors, to be contacted, by analyzing the frequency of their investments in different startups.\n",
    "(Multiple rounds of funding to the same startup should be counted first)<br>\n",
    "<br>\n",
    "4.For initial stages of the startup, focus on getting 'Crowd Funding' or 'Seed Funding'. Draw out a list of investors who have been investing heavily in different startups under this umbrella.<br>\n",
    "<br>\n",
    "5.Once the startup is more stable, focus on getting fund under 'Private Equity'. Draw out a list of investors who have been investing heavily in different startups under this umbrella.<br> "
   ]
  },
  {
   "cell_type": "code",
   "execution_count": 2,
   "id": "11afaf10",
   "metadata": {},
   "outputs": [],
   "source": [
    "import numpy as np\n",
    "import pandas as pd\n",
    "import matplotlib.pyplot as plt"
   ]
  },
  {
   "cell_type": "code",
   "execution_count": 3,
   "id": "3d4a4240",
   "metadata": {},
   "outputs": [
    {
     "data": {
      "text/html": [
       "<div>\n",
       "<style scoped>\n",
       "    .dataframe tbody tr th:only-of-type {\n",
       "        vertical-align: middle;\n",
       "    }\n",
       "\n",
       "    .dataframe tbody tr th {\n",
       "        vertical-align: top;\n",
       "    }\n",
       "\n",
       "    .dataframe thead th {\n",
       "        text-align: right;\n",
       "    }\n",
       "</style>\n",
       "<table border=\"1\" class=\"dataframe\">\n",
       "  <thead>\n",
       "    <tr style=\"text-align: right;\">\n",
       "      <th></th>\n",
       "      <th>SNo</th>\n",
       "      <th>Date</th>\n",
       "      <th>StartupName</th>\n",
       "      <th>IndustryVertical</th>\n",
       "      <th>SubVertical</th>\n",
       "      <th>CityLocation</th>\n",
       "      <th>InvestorsName</th>\n",
       "      <th>InvestmentType</th>\n",
       "      <th>AmountInUSD</th>\n",
       "      <th>Remarks</th>\n",
       "    </tr>\n",
       "  </thead>\n",
       "  <tbody>\n",
       "    <tr>\n",
       "      <th>0</th>\n",
       "      <td>0</td>\n",
       "      <td>01/08/2017</td>\n",
       "      <td>TouchKin</td>\n",
       "      <td>Technology</td>\n",
       "      <td>Predictive Care Platform</td>\n",
       "      <td>Bangalore</td>\n",
       "      <td>Kae Capital</td>\n",
       "      <td>Private Equity</td>\n",
       "      <td>1,300,000</td>\n",
       "      <td>NaN</td>\n",
       "    </tr>\n",
       "    <tr>\n",
       "      <th>1</th>\n",
       "      <td>1</td>\n",
       "      <td>02/08/2017</td>\n",
       "      <td>Ethinos</td>\n",
       "      <td>Technology</td>\n",
       "      <td>Digital Marketing Agency</td>\n",
       "      <td>Mumbai</td>\n",
       "      <td>Triton Investment Advisors</td>\n",
       "      <td>Private Equity</td>\n",
       "      <td>NaN</td>\n",
       "      <td>NaN</td>\n",
       "    </tr>\n",
       "    <tr>\n",
       "      <th>2</th>\n",
       "      <td>2</td>\n",
       "      <td>02/08/2017</td>\n",
       "      <td>Leverage Edu</td>\n",
       "      <td>Consumer Internet</td>\n",
       "      <td>Online platform for Higher Education Services</td>\n",
       "      <td>New Delhi</td>\n",
       "      <td>Kashyap Deorah, Anand Sankeshwar, Deepak Jain,...</td>\n",
       "      <td>Seed Funding</td>\n",
       "      <td>NaN</td>\n",
       "      <td>NaN</td>\n",
       "    </tr>\n",
       "    <tr>\n",
       "      <th>3</th>\n",
       "      <td>3</td>\n",
       "      <td>02/08/2017</td>\n",
       "      <td>Zepo</td>\n",
       "      <td>Consumer Internet</td>\n",
       "      <td>DIY Ecommerce platform</td>\n",
       "      <td>Mumbai</td>\n",
       "      <td>Kunal Shah, LetsVenture, Anupam Mittal, Hetal ...</td>\n",
       "      <td>Seed Funding</td>\n",
       "      <td>500,000</td>\n",
       "      <td>NaN</td>\n",
       "    </tr>\n",
       "    <tr>\n",
       "      <th>4</th>\n",
       "      <td>4</td>\n",
       "      <td>02/08/2017</td>\n",
       "      <td>Click2Clinic</td>\n",
       "      <td>Consumer Internet</td>\n",
       "      <td>healthcare service aggregator</td>\n",
       "      <td>Hyderabad</td>\n",
       "      <td>Narottam Thudi, Shireesh Palle</td>\n",
       "      <td>Seed Funding</td>\n",
       "      <td>850,000</td>\n",
       "      <td>NaN</td>\n",
       "    </tr>\n",
       "  </tbody>\n",
       "</table>\n",
       "</div>"
      ],
      "text/plain": [
       "   SNo        Date   StartupName   IndustryVertical  \\\n",
       "0    0  01/08/2017      TouchKin         Technology   \n",
       "1    1  02/08/2017       Ethinos         Technology   \n",
       "2    2  02/08/2017  Leverage Edu  Consumer Internet   \n",
       "3    3  02/08/2017          Zepo  Consumer Internet   \n",
       "4    4  02/08/2017  Click2Clinic  Consumer Internet   \n",
       "\n",
       "                                     SubVertical CityLocation  \\\n",
       "0                       Predictive Care Platform    Bangalore   \n",
       "1                       Digital Marketing Agency       Mumbai   \n",
       "2  Online platform for Higher Education Services    New Delhi   \n",
       "3                         DIY Ecommerce platform       Mumbai   \n",
       "4                  healthcare service aggregator    Hyderabad   \n",
       "\n",
       "                                       InvestorsName  InvestmentType  \\\n",
       "0                                        Kae Capital  Private Equity   \n",
       "1                         Triton Investment Advisors  Private Equity   \n",
       "2  Kashyap Deorah, Anand Sankeshwar, Deepak Jain,...    Seed Funding   \n",
       "3  Kunal Shah, LetsVenture, Anupam Mittal, Hetal ...    Seed Funding   \n",
       "4                     Narottam Thudi, Shireesh Palle    Seed Funding   \n",
       "\n",
       "  AmountInUSD Remarks  \n",
       "0   1,300,000     NaN  \n",
       "1         NaN     NaN  \n",
       "2         NaN     NaN  \n",
       "3     500,000     NaN  \n",
       "4     850,000     NaN  "
      ]
     },
     "execution_count": 3,
     "metadata": {},
     "output_type": "execute_result"
    }
   ],
   "source": [
    "#read the csv file into pd dataframe\n",
    "df_og=pd.read_csv('DataSets/old_startup_funding.csv')\n",
    "df_og.head()"
   ]
  },
  {
   "cell_type": "markdown",
   "id": "f96865b3",
   "metadata": {},
   "source": [
    "# 1. Optimal Location"
   ]
  },
  {
   "cell_type": "markdown",
   "id": "3c817dea",
   "metadata": {},
   "source": [
    "Aim: Finding the location where startups has received funding maximum number of times among Bangalore, Mumbai and NCR( Gurgaon, Noida and <br>New Delhi) to maximize chances of getting funding for a new startup."
   ]
  },
  {
   "cell_type": "code",
   "execution_count": 4,
   "id": "9a21743e",
   "metadata": {},
   "outputs": [],
   "source": [
    "#Create a pandas series containing all locations that received funding.\n",
    "Cities=df_og['CityLocation']\n",
    "#Drop the rows with nan entries\n",
    "Cities.dropna(inplace=True)\n"
   ]
  },
  {
   "cell_type": "code",
   "execution_count": 5,
   "id": "ff290e02",
   "metadata": {},
   "outputs": [],
   "source": [
    "#Cleaning Data according to requirement\n",
    "#replace bangalore with Bangalore\n",
    "Cities[Cities.str.contains('bangalore',case=False)]='Bangalore'   #add exp for fn choice\n",
    "\n",
    "\n",
    "#replace Delhi with New Delhi\n",
    "Cities[Cities.str.contains('delhi',case=False)]='New Delhi'     \n",
    "\n",
    "#replace mumbai with Mumbai\n",
    "Cities[Cities.str.contains('mumbai',case=False)]='Mumbai'\n",
    "\n",
    "#Group together New Delhi, Gurgaon and Noida under a single unit 'NCR'\n",
    "Cities[Cities.str.contains('gurgaon',case=False)]='NCR'\n",
    "Cities[Cities.str.contains('noida',case=False)]='NCR'\n",
    "Cities[Cities.str.contains('new delhi',case=False)]='NCR'\n"
   ]
  },
  {
   "cell_type": "code",
   "execution_count": 6,
   "id": "c417e472",
   "metadata": {},
   "outputs": [],
   "source": [
    "#Get no of times each loaction has got funding\n",
    "count_per_location=Cities.value_counts()"
   ]
  },
  {
   "cell_type": "code",
   "execution_count": 47,
   "id": "c38fc39b",
   "metadata": {},
   "outputs": [
    {
     "data": {
      "text/plain": [
       "[637, 449, 709]"
      ]
     },
     "execution_count": 47,
     "metadata": {},
     "output_type": "execute_result"
    }
   ],
   "source": [
    "#Our prefered locations\n",
    "Locations=['Bangalore','Mumbai','NCR']\n",
    "#Respective counts\n",
    "counts=[count_per_location[i] for i in Locations]\n",
    "counts"
   ]
  },
  {
   "cell_type": "code",
   "execution_count": 8,
   "id": "fcff754e",
   "metadata": {},
   "outputs": [
    {
     "data": {
      "image/png": "[encoded data removed]",
      "text/plain": [
       "<Figure size 432x288 with 1 Axes>"
      ]
     },
     "metadata": {
      "needs_background": "light"
     },
     "output_type": "display_data"
    }
   ],
   "source": [
    "#Plotting bar graphs to visualize no of fundings received by each loaction\n",
    "plt.bar(Locations,counts)\n",
    "plt.title('Location-Wise Funding')\n",
    "plt.grid()\n",
    "plt.show()"
   ]
  },
  {
   "cell_type": "markdown",
   "id": "0e917c69",
   "metadata": {},
   "source": [
    "Conclusion: It is evident from the graph that NCR has seen most rounds of fundings over the years hence this location should be prefered."
   ]
  },
  {
   "cell_type": "markdown",
   "id": "41429a6b",
   "metadata": {},
   "source": [
    "# 2. Top Investors with maximum rounds of Investment"
   ]
  },
  {
   "cell_type": "markdown",
   "id": "9f2cfe7a",
   "metadata": {},
   "source": [
    "Aim: Finding the top 5 investors who have invested maximum number of times to increase chances of getting investment by contacting them."
   ]
  },
  {
   "cell_type": "code",
   "execution_count": 9,
   "id": "41212875",
   "metadata": {},
   "outputs": [],
   "source": [
    "#Create a pandas series containing all investor names\n",
    "Investors=df_og['InvestorsName']\n",
    "Investors.dropna(inplace=True)"
   ]
  },
  {
   "cell_type": "code",
   "execution_count": 10,
   "id": "ff0b14e5",
   "metadata": {},
   "outputs": [],
   "source": [
    "#Consider only those entries which are disclosed\n",
    "b_a=Investors.str.contains('undisclosed',case=False)\n",
    "b_a=np.logical_not(b_a)\n",
    "Investors=Investors[b_a]"
   ]
  },
  {
   "cell_type": "code",
   "execution_count": 11,
   "id": "c836ba6f",
   "metadata": {},
   "outputs": [],
   "source": [
    "for i in Investors.value_counts().index:\n",
    "    pass\n",
    "    #print(i)"
   ]
  },
  {
   "cell_type": "markdown",
   "id": "58c1ccf4",
   "metadata": {},
   "source": [
    "Idea: Create a dictionary that holds the number of times that a investor has invested and use that to answer the problem"
   ]
  },
  {
   "cell_type": "code",
   "execution_count": 12,
   "id": "cb37e6c3",
   "metadata": {},
   "outputs": [],
   "source": [
    "d={}\n",
    "def add_to_dict(s):\n",
    "    #Get all investors name which are present as a comma-separated list\n",
    "    l=s.split(',') \n",
    "    for name in l:\n",
    "        name=name.strip()\n",
    "        d[name]=d.get(name,0)+1"
   ]
  },
  {
   "cell_type": "code",
   "execution_count": 13,
   "id": "5df6e584",
   "metadata": {},
   "outputs": [],
   "source": [
    "#Update your dictionary for investors count\n",
    "Investors.apply(add_to_dict)\n",
    "pass"
   ]
  },
  {
   "cell_type": "code",
   "execution_count": 14,
   "id": "403d7682",
   "metadata": {},
   "outputs": [],
   "source": [
    "#Sort the Dictionary based on values in descending order\n",
    "l=sorted(d.items(),key=lambda x:x[1],reverse=True)\n",
    "l=l[:5]"
   ]
  },
  {
   "cell_type": "code",
   "execution_count": 15,
   "id": "42a0e6c7",
   "metadata": {},
   "outputs": [
    {
     "data": {
      "image/png": "[encoded data removed]",
      "text/plain": [
       "<Figure size 432x288 with 1 Axes>"
      ]
     },
     "metadata": {
      "needs_background": "light"
     },
     "output_type": "display_data"
    }
   ],
   "source": [
    "#Graph to visualize top investors\n",
    "plt.title('Top Investors')\n",
    "plt.ylabel('No of fuding rounds')\n",
    "plt.xlabel('Investors')\n",
    "plt.grid()\n",
    "plt.bar([i[0] for i in l],[i[1] for i in l])\n",
    "plt.xticks(rotation=45)\n",
    "plt.show()"
   ]
  },
  {
   "cell_type": "code",
   "execution_count": 16,
   "id": "ed9ed632",
   "metadata": {
    "scrolled": true
   },
   "outputs": [
    {
     "name": "stdout",
     "output_type": "stream",
     "text": [
      "Sequoia Capital 64\n",
      "Accel Partners 52\n",
      "Kalaari Capital 44\n",
      "SAIF Partners 41\n",
      "Indian Angel Network 40\n"
     ]
    }
   ],
   "source": [
    "for i in l:\n",
    "    print(i[0],i[1])"
   ]
  },
  {
   "cell_type": "markdown",
   "id": "a564612f",
   "metadata": {},
   "source": [
    "Conclusion: The above mentioned investors are more likely to fund a startup hence they should be contacted for the same."
   ]
  },
  {
   "cell_type": "markdown",
   "id": "d41c7641",
   "metadata": {},
   "source": [
    "# 3. Top Investors in different startups\n"
   ]
  },
  {
   "cell_type": "markdown",
   "id": "c00e389f",
   "metadata": {},
   "source": [
    "Aim: Unlike the previous problem, determine the top 5 investors who have invested maximum number of times in 'different' companies"
   ]
  },
  {
   "cell_type": "code",
   "execution_count": 17,
   "id": "7078bef0",
   "metadata": {},
   "outputs": [],
   "source": [
    "#Get a copy to the two relevant columns in a new dataframe    Ola, Flipkart, Oyo and Paytm.\n",
    "df=df_og[['StartupName','InvestorsName']].copy()\n",
    "df.dropna(inplace=True)"
   ]
  },
  {
   "cell_type": "code",
   "execution_count": 18,
   "id": "51c71f0b",
   "metadata": {},
   "outputs": [],
   "source": [
    "#Consider only those entries which are disclosed \n",
    "b_a=df['InvestorsName'].str.contains('undisclosed',case=False)\n",
    "b_a=np.logical_not(b_a)\n",
    "df=df[b_a]"
   ]
  },
  {
   "cell_type": "code",
   "execution_count": 19,
   "id": "49fcb7db",
   "metadata": {},
   "outputs": [],
   "source": [
    "#replace all string with Ola, Flipkart, Oyo and Paytm as substring with Ola, Flipkart, Oyo and Paytm.\n",
    "df.loc[df['StartupName'].str.contains('ola',case=False),'StartupName']='Ola'\n",
    "df.loc[df['StartupName'].str.contains('flipkart',case=False),'StartupName']='Flipkart'\n",
    "df.loc[df['StartupName'].str.contains('oyo',case=False),'StartupName']='Oyo'\n",
    "df.loc[df['StartupName'].str.contains('paytm',case=False),'StartupName']='Paytm'\n"
   ]
  },
  {
   "cell_type": "code",
   "execution_count": 20,
   "id": "e672b5be",
   "metadata": {},
   "outputs": [],
   "source": [
    "def concatenate_strings(data):\n",
    "    ans=''\n",
    "    for i in data:\n",
    "        if ans=='':\n",
    "            ans=ans+i\n",
    "        else:\n",
    "            ans=ans+','+i\n",
    "    return ans"
   ]
  },
  {
   "cell_type": "code",
   "execution_count": 21,
   "id": "1b18cfda",
   "metadata": {},
   "outputs": [],
   "source": [
    "#Group together by startup name investors in multiple rounds (Concatenate Investors name by ',')\n",
    "Unique_startup_investors=df.groupby('StartupName')['InvestorsName'].apply(concatenate_strings)\n",
    "\n",
    "# for n in Unique_startup_investors.index:\n",
    "#     print(n,Unique_startup_investors[n])"
   ]
  },
  {
   "cell_type": "code",
   "execution_count": 22,
   "id": "1ebcafbb",
   "metadata": {},
   "outputs": [],
   "source": [
    "d={}\n",
    "def add_to_dict(s):\n",
    "    #Get all investors name which are present as a comma-separated list\n",
    "    l=s.split(',')\n",
    "    temp=set()  #A set to store unique investors name\n",
    "    for name in l:\n",
    "        name=name.strip()\n",
    "        if name=='':\n",
    "            continue\n",
    "        if not(name in temp):\n",
    "            temp.add(name)\n",
    "            d[name]=d.get(name,0)+1"
   ]
  },
  {
   "cell_type": "code",
   "execution_count": 23,
   "id": "d49a25eb",
   "metadata": {},
   "outputs": [],
   "source": [
    "#Update dictionary to count number of investments\n",
    "Unique_startup_investors.apply(add_to_dict)\n",
    "pass"
   ]
  },
  {
   "cell_type": "code",
   "execution_count": 24,
   "id": "f0f83a62",
   "metadata": {},
   "outputs": [],
   "source": [
    "l=sorted(d.items(),key=lambda x:x[1],reverse=True)       #explain this fuction"
   ]
  },
  {
   "cell_type": "markdown",
   "id": "59380750",
   "metadata": {},
   "source": [
    "Top five investors that have applied to different startups are:"
   ]
  },
  {
   "cell_type": "code",
   "execution_count": 25,
   "id": "f1275753",
   "metadata": {},
   "outputs": [
    {
     "data": {
      "image/png": "[encoded data removed]",
      "text/plain": [
       "<Figure size 432x288 with 1 Axes>"
      ]
     },
     "metadata": {
      "needs_background": "light"
     },
     "output_type": "display_data"
    }
   ],
   "source": [
    "#Graph to visualize contribution of top startups\n",
    "plt.title('Top Investors')\n",
    "plt.xlabel('Investors')\n",
    "plt.ylabel('No of startups funded')\n",
    "plt.xticks(rotation=45)\n",
    "plt.bar([l[i][0] for i in range(5)],[l[i][1] for i in range(5)])\n",
    "plt.grid()\n",
    "plt.show()"
   ]
  },
  {
   "cell_type": "code",
   "execution_count": 26,
   "id": "5417a0f8",
   "metadata": {
    "scrolled": false
   },
   "outputs": [
    {
     "name": "stdout",
     "output_type": "stream",
     "text": [
      "Sequoia Capital 48\n",
      "Accel Partners 46\n",
      "Indian Angel Network 40\n",
      "Kalaari Capital 40\n",
      "Blume Ventures 36\n"
     ]
    }
   ],
   "source": [
    "for i in range(5):\n",
    "    print(l[i][0],l[i][1])"
   ]
  },
  {
   "cell_type": "markdown",
   "id": "2e9dcd3d",
   "metadata": {},
   "source": [
    "Conclusion: Unlike our previous list, we know these investors have been most active in funding different startups hence these can be potetial investors for out startup too"
   ]
  },
  {
   "cell_type": "markdown",
   "id": "e4003ef1",
   "metadata": {},
   "source": [
    "# 4. Top Investors under 'Crowd' or 'Seed' Fuding"
   ]
  },
  {
   "cell_type": "markdown",
   "id": "95412acd",
   "metadata": {},
   "source": [
    "Aim: Finding the top 5 investors who have invested in a 'different' number of startups and their investment type is Crowd funding or Seed Funding since for a new startup we look for these fundings.\n"
   ]
  },
  {
   "cell_type": "code",
   "execution_count": 27,
   "id": "3a9b8d5a",
   "metadata": {},
   "outputs": [],
   "source": [
    "#Get a dataframe with the useful columns\n",
    "Funds=df_og[['StartupName','InvestmentType','InvestorsName']].copy()\n",
    "Funds.dropna(inplace=True)"
   ]
  },
  {
   "cell_type": "code",
   "execution_count": 28,
   "id": "745eeb93",
   "metadata": {},
   "outputs": [],
   "source": [
    "#Consider only those entries which are disclosed \n",
    "b_a=Funds['InvestorsName'].str.contains('undisclosed',case=False)\n",
    "b_a=np.logical_not(b_a)\n",
    "Funds=Funds[b_a]"
   ]
  },
  {
   "cell_type": "code",
   "execution_count": 29,
   "id": "2be5fb71",
   "metadata": {},
   "outputs": [],
   "source": [
    "#Clean the spelling errors for Seed Funding and Crowd Funding \n",
    "Funds.loc[Funds['InvestmentType'].str.contains('seed',case=False),'InvestmentType']='Seed Funding'\n",
    "Funds.loc[Funds['InvestmentType'].str.contains('crowd',case=False),'InvestmentType']='Crowd Funding'\n",
    "# Funds.loc[Funds['InvestmentType'].str.contains('private',case=False),'InvestmentType']='Private Equity'\n",
    "# Funds.loc[Funds['InvestmentType'].str.contains('debt',case=False),'InvestmentTye']='Debt Funding'\n"
   ]
  },
  {
   "cell_type": "code",
   "execution_count": 30,
   "id": "d308bf37",
   "metadata": {},
   "outputs": [],
   "source": [
    "#Since we are only concerned about investments of Seed and Crowd type, let us drop the other rows\n",
    "b_a=(Funds['InvestmentType']=='Crowd Funding') | (Funds['InvestmentType']=='Seed Funding')\n",
    "Funds=Funds[b_a]"
   ]
  },
  {
   "cell_type": "code",
   "execution_count": 31,
   "id": "f77b7196",
   "metadata": {},
   "outputs": [],
   "source": [
    "#Cleaning Startups names\n",
    "Funds.loc[Funds['StartupName'].str.contains('ola',case=False),'StartupName']='Ola'\n",
    "Funds.loc[Funds['StartupName'].str.contains('flipkart',case=False),'StartupName']='Flipkart'\n",
    "Funds.loc[Funds['StartupName'].str.contains('oyo',case=False),'StartupName']='Oyo'\n",
    "Funds.loc[Funds['StartupName'].str.contains('paytm',case=False),'StartupName']='Paytm'"
   ]
  },
  {
   "cell_type": "code",
   "execution_count": 32,
   "id": "bda024bf",
   "metadata": {},
   "outputs": [],
   "source": [
    "d={}\n",
    "def add_to_dict(s):\n",
    "    #Get all investors name which are present as a comma-separated list\n",
    "    l=s.split(',')\n",
    "    temp=set()  #A set to store unique investors name\n",
    "    for name in l:\n",
    "        name=name.strip()\n",
    "        if name=='':\n",
    "            continue\n",
    "        if not(name in temp):\n",
    "            temp.add(name)\n",
    "            d[name]=d.get(name,0)+1"
   ]
  },
  {
   "cell_type": "code",
   "execution_count": 33,
   "id": "62398d41",
   "metadata": {},
   "outputs": [],
   "source": [
    "Unique_startup_Investors=Funds.groupby('StartupName')['InvestorsName'].apply(concatenate_strings)\n",
    "\n",
    "#update dictionary to hold frequency of investors investing in unique startups\n",
    "Unique_startup_Investors.apply(add_to_dict)\n",
    "pass"
   ]
  },
  {
   "cell_type": "code",
   "execution_count": 34,
   "id": "60427012",
   "metadata": {},
   "outputs": [],
   "source": [
    "#sort the dictionary to obtain top 5 investors\n",
    "l=sorted(d.items(),key=lambda x:x[1],reverse=True)[:5]"
   ]
  },
  {
   "cell_type": "markdown",
   "id": "f019b8c8",
   "metadata": {},
   "source": [
    "Top Five Investors under Crowd Funding or Seed Funding are"
   ]
  },
  {
   "cell_type": "code",
   "execution_count": 35,
   "id": "6c3c3365",
   "metadata": {},
   "outputs": [
    {
     "data": {
      "image/png": "[encoded data removed]",
      "text/plain": [
       "<Figure size 432x288 with 1 Axes>"
      ]
     },
     "metadata": {
      "needs_background": "light"
     },
     "output_type": "display_data"
    }
   ],
   "source": [
    "#Graph to visualize contribution of top startups\n",
    "plt.title('Top Investors')\n",
    "plt.xlabel('Investors')\n",
    "plt.ylabel('No of startups funded')\n",
    "plt.xticks(rotation=45)\n",
    "plt.bar([i[0] for i in l],[i[1] for i in l])\n",
    "plt.grid()\n",
    "plt.show()"
   ]
  },
  {
   "cell_type": "code",
   "execution_count": 36,
   "id": "891503b4",
   "metadata": {
    "scrolled": true
   },
   "outputs": [
    {
     "name": "stdout",
     "output_type": "stream",
     "text": [
      "Indian Angel Network\n",
      "Rajan Anandan\n",
      "LetsVenture\n",
      "Anupam Mittal\n",
      "Kunal Shah\n"
     ]
    }
   ],
   "source": [
    "for i in l:\n",
    "    print(i[0])"
   ]
  },
  {
   "cell_type": "markdown",
   "id": "31365e92",
   "metadata": {},
   "source": [
    "Conclusion: The investors mentioned above are more likely to invest in a new startup. This list can be useful in the initial stages of a startup."
   ]
  },
  {
   "cell_type": "markdown",
   "id": "4532ffdc",
   "metadata": {},
   "source": [
    "# 5. Top Investors for 'Private Equity'"
   ]
  },
  {
   "cell_type": "markdown",
   "id": "7512939d",
   "metadata": {},
   "source": [
    "Aim: Finding the top 5 investors who have invested in a different number of startups and their investment type is Private Equity to facilitate new investment in a stable startup."
   ]
  },
  {
   "cell_type": "code",
   "execution_count": 37,
   "id": "810ece8d",
   "metadata": {},
   "outputs": [],
   "source": [
    "#Get a dataframe with the useful columns\n",
    "Funds=df_og[['StartupName','InvestmentType','InvestorsName']].copy()\n",
    "Funds.dropna(inplace=True)"
   ]
  },
  {
   "cell_type": "code",
   "execution_count": 38,
   "id": "00f6139a",
   "metadata": {},
   "outputs": [],
   "source": [
    "#Consider only those entries which are disclosed \n",
    "b_a=Funds['InvestorsName'].str.contains('undisclosed',case=False)\n",
    "b_a=np.logical_not(b_a)\n",
    "Funds=Funds[b_a]"
   ]
  },
  {
   "cell_type": "code",
   "execution_count": 39,
   "id": "d1c821e1",
   "metadata": {},
   "outputs": [],
   "source": [
    "#Clean the spelling errors for Private Equity\n",
    "Funds.loc[Funds['InvestmentType'].str.contains('private',case=False),'InvestmentType']='Private Equity'"
   ]
  },
  {
   "cell_type": "code",
   "execution_count": 40,
   "id": "6d72991c",
   "metadata": {},
   "outputs": [],
   "source": [
    "#Since we are only concerned about investments under 'Private Equity', let us drop the other rows\n",
    "b_a=(Funds['InvestmentType']=='Private Equity') \n",
    "Funds=Funds[b_a]"
   ]
  },
  {
   "cell_type": "code",
   "execution_count": 41,
   "id": "bc9c65cd",
   "metadata": {},
   "outputs": [],
   "source": [
    "#Cleaning Startups names\n",
    "Funds.loc[Funds['StartupName'].str.contains('ola',case=False),'StartupName']='Ola'\n",
    "Funds.loc[Funds['StartupName'].str.contains('flipkart',case=False),'StartupName']='Flipkart'\n",
    "Funds.loc[Funds['StartupName'].str.contains('oyo',case=False),'StartupName']='Oyo'\n",
    "Funds.loc[Funds['StartupName'].str.contains('paytm',case=False),'StartupName']='Paytm'"
   ]
  },
  {
   "cell_type": "code",
   "execution_count": 42,
   "id": "f5c90d35",
   "metadata": {},
   "outputs": [],
   "source": [
    "d={}\n",
    "def add_to_dict(s):\n",
    "    #Get all investors name which are present as a comma-separated list\n",
    "    l=s.split(',')\n",
    "    temp=set()  #A set to store unique investors name\n",
    "    for name in l:\n",
    "        name=name.strip()\n",
    "        if name=='':\n",
    "            continue\n",
    "        if not(name in temp):\n",
    "            temp.add(name)\n",
    "            d[name]=d.get(name,0)+1"
   ]
  },
  {
   "cell_type": "code",
   "execution_count": 43,
   "id": "e827e4e9",
   "metadata": {},
   "outputs": [],
   "source": [
    "Unique_startup_Investors=Funds.groupby('StartupName')['InvestorsName'].apply(concatenate_strings)\n",
    "\n",
    "#update dictionary to hold frequency of investors investing in unique startups\n",
    "Unique_startup_Investors.apply(add_to_dict)\n",
    "pass"
   ]
  },
  {
   "cell_type": "code",
   "execution_count": 44,
   "id": "0f529677",
   "metadata": {},
   "outputs": [],
   "source": [
    "#sort the dictionary to obtain top 5 investors\n",
    "l=sorted(d.items(),key=lambda x:x[1],reverse=True)[:5]"
   ]
  },
  {
   "cell_type": "code",
   "execution_count": 45,
   "id": "88881ed1",
   "metadata": {},
   "outputs": [
    {
     "data": {
      "image/png": "[encoded data removed]",
      "text/plain": [
       "<Figure size 432x288 with 1 Axes>"
      ]
     },
     "metadata": {
      "needs_background": "light"
     },
     "output_type": "display_data"
    }
   ],
   "source": [
    "#Graph to visualize contribution of top startups\n",
    "plt.title('Top Investors')\n",
    "plt.xlabel('Investors')\n",
    "plt.ylabel('No of startups funded')\n",
    "plt.xticks(rotation=45)\n",
    "plt.bar([l[i][0] for i in range(5)],[l[i][1] for i in range(5)])\n",
    "plt.grid()\n",
    "plt.show()"
   ]
  },
  {
   "cell_type": "code",
   "execution_count": 46,
   "id": "32e2a623",
   "metadata": {
    "scrolled": true
   },
   "outputs": [
    {
     "name": "stdout",
     "output_type": "stream",
     "text": [
      "Sequoia Capital\n",
      "Accel Partners\n",
      "Kalaari Capital\n",
      "Blume Ventures\n",
      "SAIF Partners\n"
     ]
    }
   ],
   "source": [
    "for i in l:\n",
    "    print(i[0])"
   ]
  },
  {
   "cell_type": "markdown",
   "id": "42f959a7",
   "metadata": {},
   "source": [
    "Conclusion: These investors are more likely to fund a more stable startup. This list is useful in the later stages of our startup"
   ]
  }
 ],
 "metadata": {
  "kernelspec": {
   "display_name": "Python 3 (ipykernel)",
   "language": "python",
   "name": "python3"
  },
  "language_info": {
   "codemirror_mode": {
    "name": "ipython",
    "version": 3
   },
   "file_extension": ".py",
   "mimetype": "text/x-python",
   "name": "python",
   "nbconvert_exporter": "python",
   "pygments_lexer": "ipython3",
   "version": "3.9.7"
  }
 },
 "nbformat": 4,
 "nbformat_minor": 5
}
